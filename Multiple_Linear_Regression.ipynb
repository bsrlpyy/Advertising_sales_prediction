{
  "nbformat": 4,
  "nbformat_minor": 0,
  "metadata": {
    "colab": {
      "provenance": []
    },
    "kernelspec": {
      "name": "python3",
      "display_name": "Python 3"
    },
    "language_info": {
      "name": "python"
    }
  },
  "cells": [
    {
      "cell_type": "markdown",
      "source": [
        "# # Çoklu Doğrusal Regresyon ile Satış Tahmini 👩‍💻\n",
        "\n",
        "**Satış Tahmini Modeli Geliştirme**\n",
        "\n",
        "Bu çalışma, çeşitli reklam kanallarında yapılan harcamalara dayalı olarak satış tahmini yapmayı amaçlamaktadır. Modelimiz, TV, radyo ve gazete reklam harcamalarına ilişkin verileri kullanarak bu reklam harcamalarının satış üzerindeki etkisini tahmin edecektir.\n",
        "\n",
        "Değişkenler:\n",
        "\n",
        "*  TV: TV reklam harcamaları\n",
        "* Radio: Radyo reklam harcamaları\n",
        "* Newspaper: Gazete reklam harcamaları\n",
        "* Sales: Satış miktarı\n",
        "\n",
        "\n",
        "Bu bağlamda, çoklu doğrusal regresyon kullanarak satış tahmini işlemleri gerçekleştirilecektir. Modelin başarısı, tahmin sonuçlarının gerçek satış verileri ile karşılaştırılması yoluyla değerlendirilecektir.\n"
      ],
      "metadata": {
        "id": "HQNMYuUsG0hj"
      }
    },
    {
      "cell_type": "markdown",
      "source": [
        "**Gerekli kütüphaneleri içe aktarma**\n",
        "Her zamanki gibi gerekli kütüphaneleri içe aktarmakla başlayacağız.\n",
        "\n",
        "📌 \"import\" ve \"from\" anahtar sözcüklerini kullanın."
      ],
      "metadata": {
        "id": "_4geYWDQIWF7"
      }
    },
    {
      "cell_type": "code",
      "source": [
        "import numpy as np\n",
        "import pandas as pd\n",
        "import matplotlib.pyplot as plt\n",
        "import seaborn as sns\n",
        "\n",
        "pd.set_option('display.float_format', lambda x: '%.2f' %x)\n",
        "\n",
        "from sklearn.linear_model import LinearRegression\n",
        "from sklearn.metrics import  mean_squared_error , mean_absolute_error\n",
        "from  sklearn.model_selection import  train_test_split , cross_val_score"
      ],
      "metadata": {
        "id": "R319_2STIYQt"
      },
      "execution_count": 4,
      "outputs": []
    },
    {
      "cell_type": "markdown",
      "source": [
        "**Verileri Setini Yükleme ve Okuma**\n",
        "\n",
        ".csv dosyasını okuyalım.\n",
        "\n",
        " Pandas kütüphanesinin read_csv() fonksiyonunu kullan\n",
        ""
      ],
      "metadata": {
        "id": "spEAiCYvH18I"
      }
    },
    {
      "cell_type": "code",
      "source": [
        "df = pd.read_csv(\"advertising.csv\")\n",
        "\n",
        "X = df.drop('sales' , axis=1)\n",
        "y= df[[\"sales\"]]"
      ],
      "metadata": {
        "id": "zMq_yys2HoBc"
      },
      "execution_count": 11,
      "outputs": []
    },
    {
      "cell_type": "markdown",
      "source": [
        "**Modelin Kurulması**"
      ],
      "metadata": {
        "id": "_58-zgSNJNue"
      }
    },
    {
      "cell_type": "code",
      "source": [
        "X_train , X_test , y_train , y_test = train_test_split(X , y, test_size = 0.20 , random_state= 1)\n",
        "\n",
        "X_test.shape\n",
        "y_test.shape"
      ],
      "metadata": {
        "colab": {
          "base_uri": "https://localhost:8080/"
        },
        "id": "vxeRgh0dJPlH",
        "outputId": "620ce810-1710-4cca-c237-eb021d71731f"
      },
      "execution_count": 17,
      "outputs": [
        {
          "output_type": "execute_result",
          "data": {
            "text/plain": [
              "(40, 1)"
            ]
          },
          "metadata": {},
          "execution_count": 17
        }
      ]
    },
    {
      "cell_type": "code",
      "source": [
        "reg_model = LinearRegression().fit(X_train, y_train)\n",
        "\n",
        "#sabit (b- bias)\n",
        "b = reg_model.intercept_\n",
        "print(\"bias: \" ,b )\n",
        "\n",
        "#coefficients (w - weights)\n",
        "\n",
        "w = reg_model.coef_\n",
        "print(\"coefficients: \" , w)\n"
      ],
      "metadata": {
        "colab": {
          "base_uri": "https://localhost:8080/"
        },
        "id": "DExBlKMFJ3ZK",
        "outputId": "03536c83-e71b-40ee-d2c2-b1c52fb34b79"
      },
      "execution_count": 20,
      "outputs": [
        {
          "output_type": "stream",
          "name": "stdout",
          "text": [
            "bias:  [2.90794702]\n",
            "coefficients:  [[0.0468431  0.17854434 0.00258619]]\n"
          ]
        }
      ]
    },
    {
      "cell_type": "markdown",
      "source": [
        "**Çoklu Regresyon Taahmin İşlemleri** :\n",
        "\n",
        "Aşağıdak gözlem değerlerine göre satışın beklenen değeri nedir?\n",
        "* TV : 30\n",
        "* Radio : 10\n",
        "* Newspaper : 40\n",
        "\n",
        "Sabitler\n",
        "* b : 2.90794702\n",
        "* w : 0.0468431,   0.17854434 , 0.00258619\n",
        "\n"
      ],
      "metadata": {
        "id": "RIyAIQwHKpFL"
      }
    },
    {
      "cell_type": "code",
      "source": [
        "\n",
        "#sales = 2.90 + TV * 0.04 + radio * 0,17 + newspaper * 0,002\n",
        "\n",
        "sales = 2.90794702 + 30 * 0.0468431 + 10 * 0.17854434 + 40 * 0.00258619\n",
        "\n",
        "print(sales)\n",
        "\n"
      ],
      "metadata": {
        "colab": {
          "base_uri": "https://localhost:8080/"
        },
        "id": "WYTiK07BKvxH",
        "outputId": "e8ab90b3-7caa-4af8-e375-03639a1248f0"
      },
      "execution_count": 26,
      "outputs": [
        {
          "output_type": "stream",
          "name": "stdout",
          "text": [
            "6.20213102\n"
          ]
        }
      ]
    },
    {
      "cell_type": "code",
      "source": [
        "yeni_veri = [[30], [10] , [40]]\n",
        "yeni_veri = pd.DataFrame(yeni_veri).T\n",
        "\n",
        "reg_model.predict(yeni_veri)"
      ],
      "metadata": {
        "colab": {
          "base_uri": "https://localhost:8080/"
        },
        "id": "l355PbL5Mf4e",
        "outputId": "049a1322-4cb3-434c-889d-53e0684c95d0"
      },
      "execution_count": 24,
      "outputs": [
        {
          "output_type": "stream",
          "name": "stderr",
          "text": [
            "/usr/local/lib/python3.10/dist-packages/sklearn/base.py:465: UserWarning: X does not have valid feature names, but LinearRegression was fitted with feature names\n",
            "  warnings.warn(\n"
          ]
        },
        {
          "output_type": "execute_result",
          "data": {
            "text/plain": [
              "array([[6.202131]])"
            ]
          },
          "metadata": {},
          "execution_count": 24
        }
      ]
    },
    {
      "cell_type": "markdown",
      "source": [
        "**Çoklu Doğrusal Regresyon Tahmin Başarısı 🙂**"
      ],
      "metadata": {
        "id": "dxE9aJkINU3M"
      }
    },
    {
      "cell_type": "code",
      "source": [
        "\n",
        "#Train RMSE\n",
        "y_pred = reg_model.predict(X_train)\n",
        "rmse = np.sqrt(mean_squared_error(y_train , y_pred))\n",
        "print(f'RMSE: {rmse}')\n",
        "\n",
        "#Train RKare\n",
        "rk = reg_model.score(X_train , y_train)\n",
        "print(f'R-Kare: {rk}')\n",
        "\n",
        "#Test RMSE\n",
        "y_pred = reg_model.predict(X_test)\n",
        "rmse_t = np.sqrt(mean_squared_error(y_test , y_pred))\n",
        "print(f'RMSE_T: {rmse_t}')\n",
        "\n",
        "#Test R Kare\n",
        "rk_t = reg_model.score(X_test , y_test)\n",
        "print(f'R-Kare_T: {rk_t}')\n",
        "\n",
        "\n"
      ],
      "metadata": {
        "colab": {
          "base_uri": "https://localhost:8080/"
        },
        "id": "MGQKqeZrNY2I",
        "outputId": "8ecce2dc-ffee-4cdb-865a-1b781c5db2a2"
      },
      "execution_count": 31,
      "outputs": [
        {
          "output_type": "stream",
          "name": "stdout",
          "text": [
            "RMSE: 1.736902590147092\n",
            "R-Kare: 0.8959372632325174\n",
            "RMSE_T: 1.4113417558581587\n",
            "R-Kare_T: 0.8927605914615384\n"
          ]
        }
      ]
    },
    {
      "cell_type": "markdown",
      "source": [
        "\n",
        "Doğrusal Regresyonda elde ettiğimizde başarı değerleri:  \n",
        "* RMSE: 3.2423221486546887\n",
        "* R-Kare: 0.611875050850071\n",
        "\n",
        "📌⭐ \"Doğrusal regresyonda elde ettiğimiz başarı değerlerini kıyasladığımızda, *RMSE: 3.24* ve *R-Kare: 0.61* sonuçları ortaya çıkarken, çoklu doğrusal regresyonda bu değerler *RMSE: 1.74* ve *R-Kare: 0.90* olarak iyileşmiştir. Bu da, çoklu doğrusal regresyonun modelin performansını önemli ölçüde artırdığını göstermektedir.\"\n",
        "\n",
        "Üstelik, test hatasının 1.41, eğitim hatasından 1.73 daha küçük çıkması oldukça olumlu bir senaryodur. Test seti için R-Kare değerinin 0.89 olması, bağımsız değişkenlerin, bağımlı değişkeni açıklama oranının yaklaşık %90 olduğunu göstermektedir; bu da oldukça yüksek bir yetenek seviyesine işaret eder.\n"
      ],
      "metadata": {
        "id": "ya8iZ3i-Oy0l"
      }
    },
    {
      "cell_type": "code",
      "source": [
        "#10 Katlı CV RMSE\n",
        "rmse = np.mean(np.sqrt(-cross_val_score(reg_model,\n",
        "                                        X,\n",
        "                                        y,\n",
        "                                        cv=10,\n",
        "                                        scoring=\"neg_mean_squared_error\")))\n",
        "print(\"10 Katlı CV RMSE:\", rmse)\n",
        "\n",
        "\n",
        "#5 Katlı CV RMSE\n",
        "rmse = np.mean(np.sqrt(-cross_val_score(reg_model,\n",
        "                                        X,\n",
        "                                        y,\n",
        "                                        cv=5,\n",
        "                                        scoring=\"neg_mean_squared_error\")))\n",
        "print(\"5 Katlı CV RMSE:\", rmse)\n",
        "\n",
        "\n",
        "\n"
      ],
      "metadata": {
        "colab": {
          "base_uri": "https://localhost:8080/"
        },
        "id": "Q6maQ09BSERq",
        "outputId": "430f20ae-ef6e-4a72-eaf9-d0c7518f880c"
      },
      "execution_count": 49,
      "outputs": [
        {
          "output_type": "stream",
          "name": "stdout",
          "text": [
            "10 Katlı CV RMSE: 1.6913531708051797\n",
            "5 Katlı CV RMSE: 1.7175247278732086\n"
          ]
        }
      ]
    }
  ]
}